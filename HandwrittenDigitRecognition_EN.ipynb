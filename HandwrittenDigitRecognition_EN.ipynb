{
 "cells": [
  {
   "cell_type": "markdown",
   "metadata": {
    "deletable": true,
    "editable": true
   },
   "source": [
    "# Classification of information using TensorFlow\n",
    "\n",
    "### Recognizing handwritten digits using convolutional neural networks"
   ]
  },
  {
   "cell_type": "markdown",
   "metadata": {
    "deletable": true,
    "editable": true
   },
   "source": [
    "<div align=\"right\"><h3>Miroslav Semerád</h3></div>\n",
    "<div align=\"right\"><h4>Miroslav_Semerad@swissre.com</h4></div>\n",
    "<div align=\"right\"><h4>@mldeveloper</h4></div>"
   ]
  },
  {
   "cell_type": "markdown",
   "metadata": {
    "deletable": true,
    "editable": true
   },
   "source": [
    "## About this workshop:\n",
    "\n",
    "#### - Introduction to the digit classification problem\n",
    "#### - MNIST - dataset of handwritten digits\n",
    "#### - Simple detection using softmax regression\n",
    "#### - Increasing the accuracy by implementing a convolutional neural network\n",
    "#### - Integration of our model into a web app"
   ]
  },
  {
   "cell_type": "markdown",
   "metadata": {
    "deletable": true,
    "editable": true
   },
   "source": [
    "## Introduction to the digit classification problem\n",
    "\n",
    "- In our business we have a bunch of scanned documents with hand written digits (e.g. dates, amounts, prices).\n",
    "- We want to automatically extract those numbers and use them to categorize our document.\n",
    "- OCR technologies work great for printed text - not so well for handwritten text.\n",
    "- We want to build a simple classifier that will read those numbers from a scan (image).\n",
    "- It is a good introduction to the topic of classification using TensorFlow.\n",
    "\n",
    "![detection](images/detection.png?arg)\n"
   ]
  },
  {
   "cell_type": "markdown",
   "metadata": {
    "deletable": true,
    "editable": true
   },
   "source": [
    "\n",
    "\n",
    "### MNIST - dataset of handwritten digits\n",
    "\n",
    "- Available on the Web and free to use.\n",
    "- Contains 60000 images of handwritten digits from 0 to 9.\n",
    "- Images are grayscale (1 color channel) with a resolution of 28 x 28 pixels.\n",
    "- Images are flattened into an array of 784 float numbers - one number per pixel.    \n",
    "- The dataset is split into training (55000) a test (5000) subset.\n",
    "- The dataset is labelled - each image contains the correct label. "
   ]
  },
  {
   "cell_type": "code",
   "execution_count": 1,
   "metadata": {
    "collapsed": false,
    "deletable": true,
    "editable": true
   },
   "outputs": [
    {
     "name": "stdout",
     "output_type": "stream",
     "text": [
      "Extracting MNIST_data/train-images-idx3-ubyte.gz\n",
      "Extracting MNIST_data/train-labels-idx1-ubyte.gz\n",
      "Extracting MNIST_data/t10k-images-idx3-ubyte.gz\n",
      "Extracting MNIST_data/t10k-labels-idx1-ubyte.gz\n"
     ]
    }
   ],
   "source": [
    "from tensorflow.examples.tutorials.mnist import input_data\n",
    "mnist = input_data.read_data_sets('MNIST_data', one_hot=True)"
   ]
  },
  {
   "cell_type": "markdown",
   "metadata": {
    "deletable": true,
    "editable": true
   },
   "source": [
    "### An example from the dataset"
   ]
  },
  {
   "cell_type": "code",
   "execution_count": 3,
   "metadata": {
    "collapsed": false,
    "deletable": true,
    "editable": true
   },
   "outputs": [
    {
     "data": {
      "image/png": "[encoded data removed]",
      "text/plain": [
       "<matplotlib.figure.Figure at 0x7fc03902e2b0>"
      ]
     },
     "metadata": {},
     "output_type": "display_data"
    },
    {
     "data": {
      "text/html": [
       "<script>\n",
       "code_show=false; \n",
       "function code_toggle() {\n",
       "    if (code_show){\n",
       "        $('div.cell.code_cell.rendered.selected div.input').hide();\n",
       "    } else {\n",
       "        $('div.cell.code_cell.rendered.selected div.input').show();\n",
       "    }\n",
       "    code_show = !code_show\n",
       "} \n",
       "\n",
       "$( document ).ready(code_toggle);\n",
       "</script>\n",
       "\n",
       "<a href=\"javascript:code_toggle()\">Show code</a>."
      ],
      "text/plain": [
       "<IPython.core.display.HTML object>"
      ]
     },
     "execution_count": 3,
     "metadata": {},
     "output_type": "execute_result"
    }
   ],
   "source": [
    "import matplotlib.pyplot as plt\n",
    "import matplotlib.cm as cm\n",
    "import matplotlib\n",
    "%matplotlib inline\n",
    "\n",
    "fig = plt.figure(figsize=(10, 5))\n",
    "for i in range(10):\n",
    "    plt.subplot(2, 5, i+1)\n",
    "    example = mnist.test.images[i]\n",
    "    example_label = \"Label: %s\"%[a for a,b in enumerate(mnist.test.labels[i]) if b == 1][0]\n",
    "    plt.title(example_label)\n",
    "    plt.imshow(example.reshape([28,28]), cmap = cm.Greys)\n",
    "    frame1 = plt.gca()\n",
    "    frame1.axes.get_xaxis().set_visible(False)\n",
    "    frame1.axes.get_yaxis().set_visible(False)\n",
    "plt.show()\n",
    "\n",
    "\n",
    "#code hiding\n",
    "from IPython.display import HTML\n",
    "HTML('''<script>\n",
    "code_show=false; \n",
    "function code_toggle() {\n",
    "    if (code_show){\n",
    "        $('div.cell.code_cell.rendered.selected div.input').hide();\n",
    "    } else {\n",
    "        $('div.cell.code_cell.rendered.selected div.input').show();\n",
    "    }\n",
    "    code_show = !code_show\n",
    "} \n",
    "\n",
    "$( document ).ready(code_toggle);\n",
    "</script>\n",
    "\n",
    "<a href=\"javascript:code_toggle()\">Show code</a>.''')"
   ]
  },
  {
   "cell_type": "markdown",
   "metadata": {
    "deletable": true,
    "editable": true
   },
   "source": [
    "### How do we use this dataset?\n",
    "\n",
    "We will train our model on this dataset - we'll use the images and the labels.\n",
    "\n",
    "Then we'll use our trained model to classify new data.\n",
    "\n",
    "![training](images/training.png?arg)"
   ]
  },
  {
   "cell_type": "markdown",
   "metadata": {
    "deletable": true,
    "editable": true
   },
   "source": [
    "## Simple classifier using softmax regression\n",
    "\n",
    "Let's start with a simple regression model to build our first classifier.\n",
    "\n",
    "We will use softmax regression for this task.\n",
    "\n",
    "But first let's import TensorFlow and create a session."
   ]
  },
  {
   "cell_type": "markdown",
   "metadata": {
    "deletable": true,
    "editable": true
   },
   "source": [
    "### TensorFlow InteractiveSession"
   ]
  },
  {
   "cell_type": "markdown",
   "metadata": {
    "deletable": true,
    "editable": true
   },
   "source": [
    "- TensorFlow is a library for numerical calculations developed by the Google Brain team.\n",
    "- Currently it has been open sourced and is one of the most popular projects on Github.\n",
    "- It's build on the data flow graph principle.\n",
    "- All calculation operations are stored in a graph to be executed later.\n",
    "- To execute an operation we have to create a TensorFlow session.\n",
    "- InteractiveSession is an abstraction of the Session - simplyfies the usage of the API."
   ]
  },
  {
   "cell_type": "code",
   "execution_count": null,
   "metadata": {
    "collapsed": false,
    "deletable": true,
    "editable": true
   },
   "outputs": [],
   "source": [
    "import tensorflow as tf\n",
    "sess = tf.InteractiveSession()\n",
    "print(\"Version: %s\"%tf.__version__)"
   ]
  },
  {
   "cell_type": "markdown",
   "metadata": {
    "deletable": true,
    "editable": true
   },
   "source": [
    "### Placeholders - entry points to our model\n",
    "\n",
    "To be able to feed the model with external data we need to define our placeholder variables.\n",
    "\n",
    "- **x**  image arrays of 784 elements from the MNIST dataset\n",
    "- **y_** correct labels from the MNIST dataset   "
   ]
  },
  {
   "cell_type": "code",
   "execution_count": null,
   "metadata": {
    "collapsed": true,
    "deletable": true,
    "editable": true
   },
   "outputs": [],
   "source": [
    "x = tf.placeholder(tf.float32, shape=[None, 784])\n",
    "y_ = tf.placeholder(tf.float32, shape=[None, 10])"
   ]
  },
  {
   "cell_type": "markdown",
   "metadata": {
    "deletable": true,
    "editable": true
   },
   "source": [
    "### Model variables\n",
    "\n",
    "These are local variables of the model. \n",
    "\n",
    "We will not be changing them.\n",
    "\n",
    "The model does change them when it is trained.\n",
    "\n",
    "- **W** - weights - is a matrix of weights, with the dimension of 784 x 10 (pixel x digit)\n",
    "- **b** - bias - population parameter, some digits are less present than others in the dataset. Bias captures these differences and moves the slope to get correct prediction not based on the amounts of a digit in the training data."
   ]
  },
  {
   "cell_type": "code",
   "execution_count": null,
   "metadata": {
    "collapsed": true,
    "deletable": true,
    "editable": true
   },
   "outputs": [],
   "source": [
    "W = tf.Variable(tf.zeros([784,10]))\n",
    "b = tf.Variable(tf.zeros([10]))"
   ]
  },
  {
   "cell_type": "markdown",
   "metadata": {
    "deletable": true,
    "editable": true
   },
   "source": [
    "### Variable initialization\n",
    "\n",
    "Befor training we have to initialize our variables to zeros."
   ]
  },
  {
   "cell_type": "code",
   "execution_count": null,
   "metadata": {
    "collapsed": true,
    "deletable": true,
    "editable": true
   },
   "outputs": [],
   "source": [
    "sess.run(tf.global_variables_initializer())"
   ]
  },
  {
   "cell_type": "markdown",
   "metadata": {
    "deletable": true,
    "editable": true
   },
   "source": [
    "### Linear model (Score function)\n",
    "\n",
    "We will define the following linear model:\n",
    "\n",
    "### y = x*W + b\n",
    "  "
   ]
  },
  {
   "cell_type": "code",
   "execution_count": null,
   "metadata": {
    "collapsed": false,
    "deletable": true,
    "editable": true
   },
   "outputs": [],
   "source": [
    "y = tf.add(tf.matmul(x,W), b)"
   ]
  },
  {
   "cell_type": "markdown",
   "metadata": {
    "deletable": true,
    "editable": true
   },
   "source": [
    "### Softmax cost function\n",
    "\n",
    "The cost function calculates the differences between our predicted labels and the real labels from MNIST.\n",
    "\n",
    "The goal is to minimize the cost.\n",
    "\n",
    "Softmax is basically a normalized exponential function.\n",
    "\n",
    "Cross entropy - function to calculate \"unnatural\" probability distribution.\n",
    "\n",
    "- **tf.nn.softmax_cross_entropy_with_logits** - handy function built into TensorFlow\n",
    "- **tf.reduce_mean** - arithmetic mean from all the categories"
   ]
  },
  {
   "cell_type": "code",
   "execution_count": null,
   "metadata": {
    "collapsed": false
   },
   "outputs": [],
   "source": [
    "import numpy as np\n",
    "npa = np.array\n",
    "def softmax(w, t = 3.0):\n",
    "    e = np.exp(npa(w) / t)\n",
    "    dist = e / np.sum(e)\n",
    "    return dist\n",
    "\n",
    "arr = np.arange(-10., 10., 0.2)\n",
    "sig = softmax(arr)\n",
    "\n",
    "plt.plot(arr, sig)\n",
    "plt.ylabel('softmax')\n",
    "plt.show()\n",
    "\n",
    "#code hiding\n",
    "from IPython.display import HTML\n",
    "HTML('''<script>\n",
    "code_show=false; \n",
    "function code_toggle() {\n",
    "    if (code_show){\n",
    "        $('div.cell.code_cell.rendered.selected div.input').hide();\n",
    "    } else {\n",
    "        $('div.cell.code_cell.rendered.selected div.input').show();\n",
    "    }\n",
    "    code_show = !code_show\n",
    "} \n",
    "\n",
    "$( document ).ready(code_toggle);\n",
    "</script>\n",
    "\n",
    "<a href=\"javascript:code_toggle()\">Show code</a>.''')"
   ]
  },
  {
   "cell_type": "code",
   "execution_count": null,
   "metadata": {
    "collapsed": false,
    "deletable": true,
    "editable": true
   },
   "outputs": [],
   "source": [
    "cross_entropy = tf.reduce_mean(tf.nn.softmax_cross_entropy_with_logits(logits=y, labels=y_))"
   ]
  },
  {
   "cell_type": "markdown",
   "metadata": {
    "deletable": true,
    "editable": true
   },
   "source": [
    "### Training of the model\n",
    "\n",
    "The optimizer is an algorithm, that minimizes our cost function by adjusting the Weight (W) and bias (b) variables.\n",
    "\n",
    "Gradient descent - is an iterative algorithm that calculates the steepest descent towards the minimum and then adjusts the values according to the step ratio.\n",
    "\n",
    "- We will use the built-in **GradientDescentOptimizer** with the step size of 0.5.\n",
    "- We will train in batches of 100 images."
   ]
  },
  {
   "cell_type": "code",
   "execution_count": null,
   "metadata": {
    "collapsed": false,
    "deletable": true,
    "editable": true
   },
   "outputs": [],
   "source": [
    "# define functions to measure accuracy\n",
    "correct_prediction = tf.equal(tf.argmax(y,1), tf.argmax(y_,1))\n",
    "accuracy = tf.reduce_mean(tf.cast(correct_prediction, tf.float32))\n",
    "\n",
    "# we will store accuracies in a list\n",
    "acc_steps = []\n",
    "\n",
    "# define our train step using the Gradient Descent Optimizer\n",
    "train_step = tf.train.GradientDescentOptimizer(0.5).minimize(cross_entropy)\n",
    "\n",
    "# training iterations\n",
    "for i in range(1000):\n",
    "    batch = mnist.train.next_batch(100)\n",
    "    train_step.run(feed_dict={x: batch[0], y_: batch[1]})\n",
    "    if i%10==0:        \n",
    "        acc_steps.append(accuracy.eval(feed_dict={x: mnist.test.images, y_: mnist.test.labels}))\n",
    "    \n",
    "# visualize accuracy\n",
    "plt.plot(acc_steps)\n",
    "plt.ylabel('accuracy')\n",
    "plt.show()"
   ]
  },
  {
   "cell_type": "code",
   "execution_count": null,
   "metadata": {
    "collapsed": false,
    "deletable": true,
    "editable": true
   },
   "outputs": [],
   "source": [
    "print(\"Accuracy %.f\"%((acc_steps[-1])*100))"
   ]
  },
  {
   "cell_type": "markdown",
   "metadata": {
    "deletable": true,
    "editable": true
   },
   "source": [
    "### Visualize the weights"
   ]
  },
  {
   "cell_type": "code",
   "execution_count": null,
   "metadata": {
    "collapsed": false,
    "deletable": true,
    "editable": true
   },
   "outputs": [],
   "source": [
    "fig = plt.figure(figsize=(10, 5))\n",
    "for i in range(10):\n",
    "    plt.subplot(2, 5, i+1)\n",
    "    weight = sess.run(W)[:,i]\n",
    "    plt.title(i)\n",
    "    plt.imshow(weight.reshape([28,28]), cmap=plt.get_cmap('seismic'))\n",
    "    frame1 = plt.gca()\n",
    "    frame1.axes.get_xaxis().set_visible(False)\n",
    "    frame1.axes.get_yaxis().set_visible(False)\n",
    "plt.show()\n",
    "\n",
    "#code hiding\n",
    "from IPython.display import HTML\n",
    "HTML('''<script>\n",
    "code_show=false; \n",
    "function code_toggle() {\n",
    "    if (code_show){\n",
    "        $('div.cell.code_cell.rendered.selected div.input').hide();\n",
    "    } else {\n",
    "        $('div.cell.code_cell.rendered.selected div.input').show();\n",
    "    }\n",
    "    code_show = !code_show\n",
    "} \n",
    "\n",
    "$( document ).ready(code_toggle);\n",
    "</script>\n",
    "\n",
    "<a href=\"javascript:code_toggle()\">Show code</a>.''')"
   ]
  },
  {
   "cell_type": "markdown",
   "metadata": {
    "collapsed": false,
    "deletable": true,
    "editable": true
   },
   "source": [
    "### How do we increase the accuracy?\n",
    "\n",
    "- The accuracy of ~91% is pretty bad for MNIST.\n",
    "- We can get a lot of bad predictions.\n",
    "- To increase the accuracy we need a more complex model.\n",
    "- A model that is capable to learn more complex patterns from the images.\n",
    "- We will use a ConvNet for this purpose.\n",
    "- But what is a ConvNet?"
   ]
  },
  {
   "cell_type": "markdown",
   "metadata": {
    "deletable": true,
    "editable": true
   },
   "source": [
    "## Convolutional Neural Network"
   ]
  },
  {
   "cell_type": "markdown",
   "metadata": {
    "deletable": true,
    "editable": true
   },
   "source": [
    "A neural network is a programmatic model, based on the principle of biological neurons.\n",
    "\n",
    "The elemental part is a neuron - a small model with inputs and outputs (synapses).\n",
    "\n",
    "The neuron does our predefinded calculation and passes it to other neurons.\n",
    "\n",
    "ConvNets are a special kind of neural network which mimic the functionality of animal visual cortex.\n",
    "\n",
    "They are based on the principle of convolution, grouping of cetrain neurons that identify certain patterns.\n",
    "\n",
    "ConvNet's perform very well when used for recognizing objects from images or videos.\n",
    "\n",
    "\n",
    "### Our network architecture\n",
    "\n",
    "#### INPUT -> CONV -> RELU -> POOL -> CONV -> RELU -> POOL -> FC -> SOFTMAX -> OUTPUT\n",
    "\n",
    "- CONV - convolutional layer\n",
    "- RELU - activation function\n",
    "- POOL - max pooling - subsampling\n",
    "- FC - fully connected layer\n",
    "- SOFTMAX - softmax regression"
   ]
  },
  {
   "cell_type": "markdown",
   "metadata": {
    "deletable": true,
    "editable": true
   },
   "source": [
    "### Helper functions\n",
    "\n",
    "Let's define some helper functions to help us build our convolutional network."
   ]
  },
  {
   "cell_type": "code",
   "execution_count": null,
   "metadata": {
    "collapsed": true,
    "deletable": true,
    "editable": true
   },
   "outputs": [],
   "source": [
    "def weight_variable(shape):\n",
    "    initial = tf.truncated_normal(shape, stddev=0.1)\n",
    "    return tf.Variable(initial)\n",
    "\n",
    "def bias_variable(shape):\n",
    "    initial = tf.constant(0.1, shape=shape)\n",
    "    return tf.Variable(initial)\n",
    "\n",
    "def conv2d(x, W):\n",
    "    return tf.nn.conv2d(x, W, strides=[1, 1, 1, 1], padding='SAME')\n",
    "\n",
    "def max_pool_2x2(x):\n",
    "    return tf.nn.max_pool(x, ksize=[1, 2, 2, 1],\n",
    "                        strides=[1, 2, 2, 1], padding='SAME')\n",
    "\n",
    "x_image = tf.reshape(x, [-1,28,28,1])"
   ]
  },
  {
   "cell_type": "markdown",
   "metadata": {
    "deletable": true,
    "editable": true
   },
   "source": [
    "### First CONV layer\n",
    "\n",
    "- detects 32 features for each 5x5 patch.\n",
    "- these layers are not densely connected - they are grouped to neighbouring regions\n",
    "\n",
    "Our weights have the dimesion of [5, 5, 1, 32], that is:\n",
    "- width of the patch\n",
    "- height of the patch\n",
    "- number of color channels - in our case inputs\n",
    "- number of output channels - note that we will get a 3D output\n",
    "\n",
    "![conv](images/conv.png?arg)\n"
   ]
  },
  {
   "cell_type": "code",
   "execution_count": null,
   "metadata": {
    "collapsed": false,
    "deletable": true,
    "editable": true
   },
   "outputs": [],
   "source": [
    "W_conv1 = weight_variable([5, 5, 1, 32])\n",
    "b_conv1 = bias_variable([32])"
   ]
  },
  {
   "cell_type": "markdown",
   "metadata": {
    "deletable": true,
    "editable": true
   },
   "source": [
    "### We will use the ReLU function as our activation function\n",
    "\n",
    "Rectified Linear unit - it's definition is quite simple.\n",
    "\n",
    "Everything below zero becomes zero.\n",
    "\n",
    "### f(x) = max(0,x)"
   ]
  },
  {
   "cell_type": "code",
   "execution_count": null,
   "metadata": {
    "collapsed": false,
    "deletable": true,
    "editable": true
   },
   "outputs": [],
   "source": [
    "import numpy as np\n",
    "npa = np.array\n",
    "def relu(a):\n",
    "    return a.clip(min=0)\n",
    "\n",
    "arr = np.arange(-10., 10., 0.2)\n",
    "sig = relu(arr)\n",
    "\n",
    "plt.plot(arr, sig)\n",
    "plt.ylabel('ReLU')\n",
    "plt.show()\n",
    "\n",
    "#code hiding\n",
    "from IPython.display import HTML\n",
    "HTML('''<script>\n",
    "code_show=false; \n",
    "function code_toggle() {\n",
    "    if (code_show){\n",
    "        $('div.cell.code_cell.rendered.selected div.input').hide();\n",
    "    } else {\n",
    "        $('div.cell.code_cell.rendered.selected div.input').show();\n",
    "    }\n",
    "    code_show = !code_show\n",
    "} \n",
    "\n",
    "$( document ).ready(code_toggle);\n",
    "</script>\n",
    "\n",
    "<a href=\"javascript:code_toggle()\">Show code</a>.''')"
   ]
  },
  {
   "cell_type": "markdown",
   "metadata": {
    "deletable": true,
    "editable": true
   },
   "source": [
    "### Max Pooling (subsampling)\n",
    "\n",
    "None linear downsampling.\n",
    "\n",
    "We take each 2x2 patch of the image and pick the highest value.\n",
    "\n",
    "\n",
    "### Changes the resolution form 28x28 to 14x14\n",
    "\n",
    "![pool](images/max_pool.png?arg)"
   ]
  },
  {
   "cell_type": "code",
   "execution_count": null,
   "metadata": {
    "collapsed": true,
    "deletable": true,
    "editable": true
   },
   "outputs": [],
   "source": [
    "h_conv1 = tf.nn.relu(tf.add(conv2d(x_image, W_conv1), b_conv1))\n",
    "h_pool1 = max_pool_2x2(h_conv1)"
   ]
  },
  {
   "cell_type": "markdown",
   "metadata": {
    "deletable": true,
    "editable": true
   },
   "source": [
    "### Second CONV layer\n",
    "\n",
    "- Similar to the first one\n",
    "- 5x5 patch\n",
    "- 32 inputs per region\n",
    "- 64 outputs per region\n",
    "\n",
    "### Max Pooling again lowers the resolution to 7x7"
   ]
  },
  {
   "cell_type": "code",
   "execution_count": null,
   "metadata": {
    "collapsed": true,
    "deletable": true,
    "editable": true
   },
   "outputs": [],
   "source": [
    "W_conv2 = weight_variable([5, 5, 32, 64])\n",
    "b_conv2 = bias_variable([64])\n",
    "\n",
    "h_conv2 = tf.nn.relu(tf.add(conv2d(h_pool1, W_conv2), b_conv2))\n",
    "h_pool2 = max_pool_2x2(h_conv2)"
   ]
  },
  {
   "cell_type": "markdown",
   "metadata": {
    "deletable": true,
    "editable": true
   },
   "source": [
    "### Fully connected layer\n",
    "\n",
    "Standard in most classical neural networks.\n",
    "\n",
    "Connects each neuron from all the regions together.\n",
    "\n",
    "This enables us to detect patterns everywhere on the image not just in the specific region.\n",
    "\n",
    "We'll get 1024 outputs.\n",
    "\n",
    "![fc](images/FCLayer.png?arg)\n",
    "\n",
    "### In the end we will reshape our matrix to a 1D vector with 196 values. "
   ]
  },
  {
   "cell_type": "code",
   "execution_count": null,
   "metadata": {
    "collapsed": true,
    "deletable": true,
    "editable": true
   },
   "outputs": [],
   "source": [
    "W_fc1 = weight_variable([7 * 7 * 64, 1024])\n",
    "b_fc1 = bias_variable([1024])\n",
    "\n",
    "h_pool2_flat = tf.reshape(h_pool2, [-1, 7*7*64])\n",
    "h_fc1 = tf.nn.relu(tf.add(tf.matmul(h_pool2_flat, W_fc1), b_fc1))"
   ]
  },
  {
   "cell_type": "markdown",
   "metadata": {
    "deletable": true,
    "editable": true
   },
   "source": [
    "### Dropout\n",
    "\n",
    "Dropout helps us to reduce overfitting.\n",
    "\n",
    "Overfiting means that our model is too bound to our training data and performs badly on new test data.\n",
    "\n",
    "Dropout is a simple technique of throwing out a random output from a neuron.\n",
    "\n",
    "TensorFlow applies the Dropout automatically based on our specified keep_prob value.\n",
    "\n",
    "We'll use it **only for training!**"
   ]
  },
  {
   "cell_type": "code",
   "execution_count": null,
   "metadata": {
    "collapsed": false,
    "deletable": true,
    "editable": true
   },
   "outputs": [],
   "source": [
    "keep_prob = tf.placeholder(tf.float32)\n",
    "h_fc1_drop = tf.nn.dropout(h_fc1, keep_prob)"
   ]
  },
  {
   "cell_type": "markdown",
   "metadata": {
    "deletable": true,
    "editable": true
   },
   "source": [
    "### SOFTMAX layer\n",
    "\n",
    "Now we will apply our softmax regression to the output of the previous layer to predict the labels."
   ]
  },
  {
   "cell_type": "code",
   "execution_count": null,
   "metadata": {
    "collapsed": true,
    "deletable": true,
    "editable": true
   },
   "outputs": [],
   "source": [
    "W_fc2 = weight_variable([1024, 10])\n",
    "b_fc2 = bias_variable([10])\n",
    "\n",
    "y_conv = tf.add(tf.matmul(h_fc1_drop, W_fc2), b_fc2)\n",
    "cross_entropy = tf.reduce_mean(tf.nn.softmax_cross_entropy_with_logits(logits=y_conv, labels=y_))"
   ]
  },
  {
   "cell_type": "markdown",
   "metadata": {
    "deletable": true,
    "editable": true
   },
   "source": [
    "### Training our model\n",
    "\n",
    "<font color='red'><b>Warning: This could take several minutes on a standard PC.</b></font>"
   ]
  },
  {
   "cell_type": "code",
   "execution_count": null,
   "metadata": {
    "collapsed": false,
    "deletable": true,
    "editable": true
   },
   "outputs": [],
   "source": [
    "train_step = tf.train.AdamOptimizer(1e-4).minimize(cross_entropy)\n",
    "correct_prediction = tf.equal(tf.argmax(y_conv,1), tf.argmax(y_,1))\n",
    "accuracy = tf.reduce_mean(tf.cast(correct_prediction, tf.float32))\n",
    "sess.run(tf.global_variables_initializer())\n",
    "\n",
    "acc_steps = []\n",
    "\n",
    "for i in range(20000):\n",
    "    batch = mnist.train.next_batch(50)\n",
    "    if i%1000 == 0:\n",
    "        train_accuracy = accuracy.eval(feed_dict={\n",
    "        x:batch[0], y_: batch[1], keep_prob: 1.0})\n",
    "        acc_steps.append(train_accuracy)\n",
    "        print(\"step %d, training accuracy %g\"%(i, train_accuracy))\n",
    "    train_step.run(feed_dict={x: batch[0], y_: batch[1], keep_prob: 0.5})\n",
    "\n",
    "print(\"test accuracy %g\"%accuracy.eval(feed_dict={\n",
    "x: mnist.test.images, y_: mnist.test.labels, keep_prob: 1.0}))\n",
    "\n",
    "# visualize accuracy\n",
    "plt.plot(acc_steps)\n",
    "plt.ylabel('accuracy')\n",
    "plt.show()"
   ]
  },
  {
   "cell_type": "markdown",
   "metadata": {
    "deletable": true,
    "editable": true
   },
   "source": [
    "The accuracy is now about **99,2%**"
   ]
  },
  {
   "cell_type": "markdown",
   "metadata": {
    "deletable": true,
    "editable": true
   },
   "source": [
    "### Example of classifing another image"
   ]
  },
  {
   "cell_type": "code",
   "execution_count": null,
   "metadata": {
    "collapsed": false,
    "deletable": true,
    "editable": true
   },
   "outputs": [],
   "source": [
    "import matplotlib.pyplot as plt\n",
    "import matplotlib.cm as cm\n",
    "import matplotlib\n",
    "%matplotlib inline\n",
    "\n",
    "index = 100\n",
    "\n",
    "tmp = mnist.test.images[index]\n",
    "tmp = tmp.reshape((28,28))\n",
    "\n",
    "plt.imshow(tmp, cmap = cm.Greys, interpolation=\"nearest\")\n",
    "plt.show()\n",
    "\n",
    "print(\"Label: %s\"%[a for a,b in enumerate(mnist.test.labels[index]) if b == 1])\n",
    "\n",
    "prediction=tf.argmax(y_conv,1)\n",
    "print(\"Predicted Digit: %s\"%prediction.eval(feed_dict={x: [mnist.test.images[index]], keep_prob: 1.0}, session=sess))"
   ]
  },
  {
   "cell_type": "markdown",
   "metadata": {
    "deletable": true,
    "editable": true
   },
   "source": [
    "### Visualize the Activations"
   ]
  },
  {
   "cell_type": "code",
   "execution_count": null,
   "metadata": {
    "collapsed": false,
    "deletable": true,
    "editable": true
   },
   "outputs": [],
   "source": [
    "import numpy as np\n",
    "import math\n",
    "\n",
    "def getActivations(activation,example):\n",
    "    units = sess.run(activation,feed_dict={x:[example],keep_prob:1.0})\n",
    "    plotNNFilter(units)\n",
    "\n",
    "def plotNNFilter(units):\n",
    "    filters = units.shape[2]\n",
    "    plt.figure(1, figsize=(20,20))\n",
    "    n_columns = 6\n",
    "    n_rows = math.ceil(filters / n_columns) + 1\n",
    "    for i in range(filters):\n",
    "        plt.subplot(n_rows, n_columns, i+1)\n",
    "        plt.title('Filter ' + str(i))\n",
    "        plt.imshow(units[0,:,:,i], interpolation=\"nearest\", cmap=plt.get_cmap('coolwarm'))\n",
    "    plt.show()\n",
    "    \n",
    "example_index = index\n",
    "example = mnist.test.images[example_index]\n",
    "example_label = \"'MNIST example: Number %s\"%[a for a,b in enumerate(mnist.test.labels[example_index]) if b == 1][0]\n",
    "\n",
    "#code hiding\n",
    "from IPython.display import HTML\n",
    "HTML('''<script>\n",
    "code_show=false; \n",
    "function code_toggle() {\n",
    "    if (code_show){\n",
    "        $('div.cell.code_cell.rendered.selected div.input').hide();\n",
    "    } else {\n",
    "        $('div.cell.code_cell.rendered.selected div.input').show();\n",
    "    }\n",
    "    code_show = !code_show\n",
    "} \n",
    "\n",
    "$( document ).ready(code_toggle);\n",
    "</script>\n",
    "\n",
    "<a href=\"javascript:code_toggle()\">Show code</a>.''')"
   ]
  },
  {
   "cell_type": "markdown",
   "metadata": {
    "deletable": true,
    "editable": true
   },
   "source": [
    "### Convolutional Layer 1"
   ]
  },
  {
   "cell_type": "code",
   "execution_count": null,
   "metadata": {
    "collapsed": false,
    "deletable": true,
    "editable": true
   },
   "outputs": [],
   "source": [
    "getActivations(h_conv1,example)"
   ]
  },
  {
   "cell_type": "markdown",
   "metadata": {
    "deletable": true,
    "editable": true
   },
   "source": [
    "### Max Pooling Layer 1"
   ]
  },
  {
   "cell_type": "code",
   "execution_count": null,
   "metadata": {
    "collapsed": false,
    "deletable": true,
    "editable": true
   },
   "outputs": [],
   "source": [
    "getActivations(h_pool1,example)"
   ]
  },
  {
   "cell_type": "markdown",
   "metadata": {
    "deletable": true,
    "editable": true
   },
   "source": [
    "### Convolutional Layer 2"
   ]
  },
  {
   "cell_type": "code",
   "execution_count": null,
   "metadata": {
    "collapsed": false,
    "deletable": true,
    "editable": true
   },
   "outputs": [],
   "source": [
    "getActivations(h_conv2,example)"
   ]
  },
  {
   "cell_type": "markdown",
   "metadata": {
    "deletable": true,
    "editable": true
   },
   "source": [
    "### Max Pooling Layer 2"
   ]
  },
  {
   "cell_type": "code",
   "execution_count": null,
   "metadata": {
    "collapsed": false,
    "deletable": true,
    "editable": true
   },
   "outputs": [],
   "source": [
    "getActivations(h_pool2,example)"
   ]
  },
  {
   "cell_type": "markdown",
   "metadata": {
    "deletable": true,
    "editable": true
   },
   "source": [
    "### Saving and restoring the model"
   ]
  },
  {
   "cell_type": "markdown",
   "metadata": {
    "deletable": true,
    "editable": true
   },
   "source": [
    "Saving the model:"
   ]
  },
  {
   "cell_type": "code",
   "execution_count": null,
   "metadata": {
    "collapsed": false,
    "deletable": true,
    "editable": true
   },
   "outputs": [],
   "source": [
    "saver = tf.train.Saver()\n",
    "saver.save(sess, '/home/s8xcm9/models/')"
   ]
  },
  {
   "cell_type": "markdown",
   "metadata": {
    "deletable": true,
    "editable": true
   },
   "source": [
    "Restoring the model:"
   ]
  },
  {
   "cell_type": "code",
   "execution_count": null,
   "metadata": {
    "collapsed": false,
    "deletable": true,
    "editable": true
   },
   "outputs": [],
   "source": [
    "saver = tf.train.Saver()\n",
    "saver.restore(sess, tf.train.latest_checkpoint('/home/s8xcm9/models/'))"
   ]
  },
  {
   "cell_type": "markdown",
   "metadata": {
    "deletable": true,
    "editable": true
   },
   "source": [
    "#### Contacts:"
   ]
  },
  {
   "cell_type": "markdown",
   "metadata": {
    "collapsed": true,
    "deletable": true,
    "editable": true
   },
   "source": [
    "\n",
    "\n",
    "<div align=\"center\">\n",
    "<h1 style=\"color:blue;\">Miroslav Semerád</h1>\n",
    "<h2>@mldeveloper</h2>\n",
    "<h2>Miroslav_Semerad@swissre.com</h2>\n",
    "</div>"
   ]
  },
  {
   "cell_type": "code",
   "execution_count": null,
   "metadata": {
    "collapsed": true,
    "deletable": true,
    "editable": true
   },
   "outputs": [],
   "source": []
  },
  {
   "cell_type": "code",
   "execution_count": null,
   "metadata": {
    "collapsed": true,
    "deletable": true,
    "editable": true
   },
   "outputs": [],
   "source": []
  },
  {
   "cell_type": "code",
   "execution_count": null,
   "metadata": {
    "collapsed": true,
    "deletable": true,
    "editable": true
   },
   "outputs": [],
   "source": []
  }
 ],
 "metadata": {
  "anaconda-cloud": {},
  "kernelspec": {
   "display_name": "Python 3",
   "language": "python",
   "name": "python3"
  },
  "language_info": {
   "codemirror_mode": {
    "name": "ipython",
    "version": 3
   },
   "file_extension": ".py",
   "mimetype": "text/x-python",
   "name": "python",
   "nbconvert_exporter": "python",
   "pygments_lexer": "ipython3",
   "version": "3.4.5"
  }
 },
 "nbformat": 4,
 "nbformat_minor": 2
}
